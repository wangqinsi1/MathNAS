{
 "cells": [
  {
   "cell_type": "code",
   "execution_count": null,
   "id": "deadly-branch",
   "metadata": {},
   "outputs": [],
   "source": [
    "import random\n",
    "import math\n",
    "import pickle\n",
    "import argparse\n",
    "import yaml\n",
    "from NASViT.main import start, generate_model\n",
    "\n",
    "parser = argparse.ArgumentParser() \n",
    "parser.add_argument('--config_path', type=str, default=None)\n",
    "parser.add_argument('--imagenet_save_path', type=str, default=None)\n",
    "\n",
    "args = parser.parse_args()\n",
    "\n",
    "with open(args.config_path, 'r') as file:\n",
    "    subconfig = yaml.load(file, Loader=yaml.FullLoader)\n",
    "    \n",
    "config, model, data_loader_train, data_loader_val = start()\n",
    "           \n",
    "subnet_cfg, flops, loss, top1, top5= generate_model(subconfig, config, model, data_loader_train, data_loader_val)\n",
    "\n",
    "print('Results: loss=%.5f,\\t top1=%.1f,\\t top5=%.1f' % (loss, top1, top5))"
   ]
  }
 ],
 "metadata": {
  "kernelspec": {
   "display_name": "Python 3",
   "language": "python",
   "name": "python3"
  },
  "language_info": {
   "codemirror_mode": {
    "name": "ipython",
    "version": 3
   },
   "file_extension": ".py",
   "mimetype": "text/x-python",
   "name": "python",
   "nbconvert_exporter": "python",
   "pygments_lexer": "ipython3",
   "version": "3.7.6"
  }
 },
 "nbformat": 4,
 "nbformat_minor": 5
}
